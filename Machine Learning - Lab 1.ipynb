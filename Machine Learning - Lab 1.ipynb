{
 "cells": [
  {
   "cell_type": "markdown",
   "id": "29e94cee",
   "metadata": {},
   "source": [
    "# Assessment Question"
   ]
  },
  {
   "cell_type": "markdown",
   "id": "dacf5061",
   "metadata": {},
   "source": [
    "### Why is it beneficial to use Conda for Python environment management, especially in machine learning and data science projects?"
   ]
  },
  {
   "cell_type": "markdown",
   "id": "7814bf53",
   "metadata": {},
   "source": [
    "Conda is beneficial for Python environment management in machine learning and data science due to its cross-platform compatibility, easy dependency management, virtual environments for isolation, effortless reproducibility, a broad package selection, and integration with Jupyter Notebooks. It simplifies the setup, sharing, and replication of project environments, reducing conflicts and ensuring smooth collaboration."
   ]
  },
  {
   "cell_type": "code",
   "execution_count": 1,
   "id": "2c88b3a4",
   "metadata": {},
   "outputs": [],
   "source": [
    "import numpy as np\n",
    "import pandas as pd\n",
    "import matplotlib.pyplot as plt\n",
    "import scipy as sp"
   ]
  },
  {
   "cell_type": "markdown",
   "id": "9ca0c4f7",
   "metadata": {},
   "source": [
    "# Assessment Question"
   ]
  },
  {
   "cell_type": "markdown",
   "id": "836c84d9",
   "metadata": {},
   "source": [
    "### Describe the steps to create a new environment in Conda and install a specific version of Python and a few packages."
   ]
  },
  {
   "cell_type": "code",
   "execution_count": null,
   "id": "f999f46b",
   "metadata": {},
   "outputs": [],
   "source": [
    "%conda create --name ml_lab1 python=3.8\n",
    "%conda activate ml_lab1\n",
    "%conda install numpy pandas matplotlib scipy"
   ]
  },
  {
   "cell_type": "markdown",
   "id": "4dccf3a9",
   "metadata": {},
   "source": [
    "### Write a Python script that takes a list of numbers and returns a list containing only the even numbers."
   ]
  },
  {
   "cell_type": "code",
   "execution_count": 9,
   "id": "3e7abbd1",
   "metadata": {},
   "outputs": [
    {
     "name": "stdout",
     "output_type": "stream",
     "text": [
      "Input Numbers: [1, 2, 3, 4, 5, 6, 7, 8, 9, 10]\n",
      "Even Numbers: [2, 4, 6, 8, 10]\n"
     ]
    }
   ],
   "source": [
    "def filter_even_numbers(numbers):\n",
    "  \n",
    "    even_numbers = [num for num in numbers if num % 2 == 0]\n",
    "    return even_numbers\n",
    "\n",
    "input_numbers = [1, 2, 3, 4, 5, 6, 7, 8, 9, 10]\n",
    "result = filter_even_numbers(input_numbers)\n",
    "\n",
    "print(\"Input Numbers:\", input_numbers)\n",
    "print(\"Even Numbers:\", result)"
   ]
  },
  {
   "cell_type": "markdown",
   "id": "9f05e938",
   "metadata": {},
   "source": [
    "### Explain the difference between a list and a tuple in Python."
   ]
  },
  {
   "cell_type": "markdown",
   "id": "5a467836",
   "metadata": {},
   "source": [
    "The choice between a list and a tuple depends on the specific requirements of the program. If we need a mutable collection, we use a list. If we want an immutable collection, we use a tuple."
   ]
  },
  {
   "cell_type": "code",
   "execution_count": 11,
   "id": "68d400aa",
   "metadata": {},
   "outputs": [
    {
     "name": "stdout",
     "output_type": "stream",
     "text": [
      "[1, 2, 3, 4]\n"
     ]
    }
   ],
   "source": [
    "# List\n",
    "my_list = [1, 2, 3]\n",
    "my_list.append(4)\n",
    "print(my_list)  # Output: [1, 2, 3, 4]\n",
    "\n",
    "# Tuple\n",
    "my_tuple = (1, 2, 3)\n",
    "# The following line would raise an error since tuples are immutable:\n",
    "# my_tuple.append(4)"
   ]
  },
  {
   "cell_type": "markdown",
   "id": "5c6523e9",
   "metadata": {},
   "source": [
    "### Create a NumPy array and perform basic array operations (addition, multiplication)."
   ]
  },
  {
   "cell_type": "code",
   "execution_count": 27,
   "id": "36e23e65",
   "metadata": {},
   "outputs": [
    {
     "name": "stdout",
     "output_type": "stream",
     "text": [
      "Array A: [1 2 3]\n",
      "Array B: [4 5 6]\n",
      "\n",
      "Addition Result: [5 7 9]\n",
      "Multiplication Result: [ 4 10 18]\n"
     ]
    }
   ],
   "source": [
    "import numpy as np\n",
    "\n",
    "array_a = np.array([1, 2, 3])\n",
    "array_b = np.array([4, 5, 6])\n",
    "\n",
    "result_addition = array_a + array_b\n",
    "\n",
    "result_multiplication = array_a * array_b\n",
    "\n",
    "print(\"Array A:\", array_a)\n",
    "print(\"Array B:\", array_b)\n",
    "\n",
    "print(\"\\nAddition Result:\", result_addition)\n",
    "print(\"Multiplication Result:\", result_multiplication)"
   ]
  },
  {
   "cell_type": "markdown",
   "id": "8b183f34",
   "metadata": {},
   "source": [
    "### What are the advantages of using NumPy arrays over standard Python lists for numerical data?"
   ]
  },
  {
   "cell_type": "markdown",
   "id": "c002c193",
   "metadata": {},
   "source": [
    "NumPy makes numerical computing in Python faster, more memory-efficient, and provides a concise syntax with extensive functionality and community support."
   ]
  },
  {
   "cell_type": "markdown",
   "id": "ce01214f",
   "metadata": {},
   "source": [
    "### Read a CSV file into a DataFrame, display the first few rows, and filter the data based on a condition."
   ]
  },
  {
   "cell_type": "code",
   "execution_count": 22,
   "id": "abfcc5ee",
   "metadata": {},
   "outputs": [],
   "source": [
    "import pandas as pd\n",
    "state_populations = pd.read_csv('state-population.csv')"
   ]
  },
  {
   "cell_type": "code",
   "execution_count": 23,
   "id": "6a4403a4",
   "metadata": {},
   "outputs": [
    {
     "data": {
      "text/html": [
       "<div>\n",
       "<style scoped>\n",
       "    .dataframe tbody tr th:only-of-type {\n",
       "        vertical-align: middle;\n",
       "    }\n",
       "\n",
       "    .dataframe tbody tr th {\n",
       "        vertical-align: top;\n",
       "    }\n",
       "\n",
       "    .dataframe thead th {\n",
       "        text-align: right;\n",
       "    }\n",
       "</style>\n",
       "<table border=\"1\" class=\"dataframe\">\n",
       "  <thead>\n",
       "    <tr style=\"text-align: right;\">\n",
       "      <th></th>\n",
       "      <th>state/region</th>\n",
       "      <th>ages</th>\n",
       "      <th>year</th>\n",
       "      <th>population</th>\n",
       "    </tr>\n",
       "  </thead>\n",
       "  <tbody>\n",
       "    <tr>\n",
       "      <th>0</th>\n",
       "      <td>AL</td>\n",
       "      <td>under18</td>\n",
       "      <td>2012</td>\n",
       "      <td>1117489.0</td>\n",
       "    </tr>\n",
       "    <tr>\n",
       "      <th>1</th>\n",
       "      <td>AL</td>\n",
       "      <td>total</td>\n",
       "      <td>2012</td>\n",
       "      <td>4817528.0</td>\n",
       "    </tr>\n",
       "    <tr>\n",
       "      <th>2</th>\n",
       "      <td>AL</td>\n",
       "      <td>under18</td>\n",
       "      <td>2010</td>\n",
       "      <td>1130966.0</td>\n",
       "    </tr>\n",
       "    <tr>\n",
       "      <th>3</th>\n",
       "      <td>AL</td>\n",
       "      <td>total</td>\n",
       "      <td>2010</td>\n",
       "      <td>4785570.0</td>\n",
       "    </tr>\n",
       "    <tr>\n",
       "      <th>4</th>\n",
       "      <td>AL</td>\n",
       "      <td>under18</td>\n",
       "      <td>2011</td>\n",
       "      <td>1125763.0</td>\n",
       "    </tr>\n",
       "  </tbody>\n",
       "</table>\n",
       "</div>"
      ],
      "text/plain": [
       "  state/region     ages  year  population\n",
       "0           AL  under18  2012   1117489.0\n",
       "1           AL    total  2012   4817528.0\n",
       "2           AL  under18  2010   1130966.0\n",
       "3           AL    total  2010   4785570.0\n",
       "4           AL  under18  2011   1125763.0"
      ]
     },
     "execution_count": 23,
     "metadata": {},
     "output_type": "execute_result"
    }
   ],
   "source": [
    "state_populations.head(5)"
   ]
  },
  {
   "cell_type": "code",
   "execution_count": 26,
   "id": "e1644b74",
   "metadata": {},
   "outputs": [
    {
     "name": "stdout",
     "output_type": "stream",
     "text": [
      "\n",
      "Filtered data based on the condition:\n",
      "     state/region     ages  year   population\n",
      "38             AL    total  1994    4260229.0\n",
      "39             AL    total  1993    4214202.0\n",
      "40             AL  under18  1993    1085606.0\n",
      "41             AL  under18  1994    1097180.0\n",
      "42             AL  under18  1992    1072873.0\n",
      "...           ...      ...   ...          ...\n",
      "2501          USA    total  1992  256514231.0\n",
      "2502          USA    total  1993  259918595.0\n",
      "2503          USA  under18  1993   67594938.0\n",
      "2504          USA  under18  1994   68640936.0\n",
      "2505          USA    total  1994  263125826.0\n",
      "\n",
      "[530 rows x 4 columns]\n"
     ]
    }
   ],
   "source": [
    "condition = state_populations['year'] < 1995\n",
    "filtered_data = state_populations[condition]\n",
    "print(\"\\nFiltered data based on the condition:\")\n",
    "print(filtered_data)"
   ]
  },
  {
   "cell_type": "markdown",
   "id": "70b22e0a",
   "metadata": {},
   "source": [
    "### Describe how a Pandas DataFrame is different from a NumPy array."
   ]
  },
  {
   "cell_type": "markdown",
   "id": "c584882c",
   "metadata": {},
   "source": [
    "While NumPy arrays are fundamental for numerical computing, Pandas DataFrames provide a higher-level, labeled structure tailored for working with heterogeneous and tabular data, making them more suitable for data analysis and manipulation tasks."
   ]
  },
  {
   "cell_type": "markdown",
   "id": "a9488153",
   "metadata": {},
   "source": [
    "### Create a basic plot (line plot or bar chart) using data from a Pandas DataFrame."
   ]
  },
  {
   "cell_type": "code",
   "execution_count": 33,
   "id": "70f82db1",
   "metadata": {},
   "outputs": [
    {
     "data": {
      "image/png": "[encoded data removed]",
      "text/plain": [
       "<Figure size 640x480 with 1 Axes>"
      ]
     },
     "metadata": {},
     "output_type": "display_data"
    }
   ],
   "source": [
    "selected_states = ['AL', 'AK', 'AZ']\n",
    "filtered_data = state_populations[state_populations['state/region'].isin(selected_states)]\n",
    "\n",
    "# Group by year and state/region, summing the population values\n",
    "grouped_data = filtered_data.groupby(['year', 'state/region']).sum()['population'].unstack()\n",
    "\n",
    "# Plotting\n",
    "grouped_data.plot.line(marker='o', linestyle='-')\n",
    "plt.title('Population Trends for States: AL, AK, AZ (Under 18)')\n",
    "plt.xlabel('Year')\n",
    "plt.ylabel('Population')\n",
    "plt.legend(title='State', loc='upper left')\n",
    "plt.show()"
   ]
  },
  {
   "cell_type": "markdown",
   "id": "e8194820",
   "metadata": {},
   "source": [
    "### Why is data visualization important in data analysis?"
   ]
  },
  {
   "cell_type": "markdown",
   "id": "3287a0d3",
   "metadata": {},
   "source": [
    "Data visualization is a powerful tool in the data analysis process, facilitating understanding, communication, and decision-making based on data-driven insights. It transforms raw data into a visual story that is accessible and meaningful to a broad audience."
   ]
  },
  {
   "cell_type": "markdown",
   "id": "f088aabb",
   "metadata": {},
   "source": [
    "### Write a Python script to read a text file and count the frequency of each word in the file."
   ]
  },
  {
   "cell_type": "code",
   "execution_count": 38,
   "id": "7ff3c92c",
   "metadata": {
    "scrolled": false
   },
   "outputs": [
    {
     "name": "stdout",
     "output_type": "stream",
     "text": [
      "Word Frequencies:\n",
      "mercedes: 7\n",
      "benz: 1\n",
      "and: 8\n",
      "microsoft: 3\n",
      "are: 2\n",
      "partnering: 1\n",
      "to: 11\n",
      "test: 1\n",
      "in: 10\n",
      "car: 1\n",
      "chatgpt: 7\n",
      "artificial: 1\n",
      "intelligence: 1\n",
      "available: 1\n",
      "more: 1\n",
      "than: 1\n",
      "900: 1\n",
      "000: 1\n",
      "vehicles: 3\n",
      "the: 23\n",
      "u: 2\n",
      "s: 2\n",
      "companies: 2\n",
      "announced: 1\n",
      "thursday: 1\n",
      "luxury: 1\n",
      "automaker: 1\n",
      "said: 5\n",
      "emerging: 1\n",
      "technology: 3\n",
      "will: 4\n",
      "be: 1\n",
      "used: 1\n",
      "for: 4\n",
      "audio: 1\n",
      "requests: 1\n",
      "through: 1\n",
      "its: 2\n",
      "hey: 2\n",
      "voice: 6\n",
      "assistant: 2\n",
      "which: 3\n",
      "is: 2\n",
      "expected: 1\n",
      "greatly: 2\n",
      "expand: 2\n",
      "systems: 1\n",
      "capabilities: 2\n",
      "it: 3\n",
      "first: 2\n",
      "implementation: 1\n",
      "of: 7\n",
      "a: 7\n",
      "vehicle: 2\n",
      "according: 2\n",
      "spokesperson: 1\n",
      "an: 2\n",
      "optional: 1\n",
      "beta: 3\n",
      "program: 3\n",
      "customers: 2\n",
      "begin: 1\n",
      "friday: 1\n",
      "can: 3\n",
      "enroll: 1\n",
      "via: 1\n",
      "companys: 1\n",
      "app: 1\n",
      "called: 1\n",
      "me: 1\n",
      "or: 3\n",
      "directly: 1\n",
      "from: 2\n",
      "using: 1\n",
      "command: 1\n",
      "i: 1\n",
      "want: 1\n",
      "join: 1\n",
      "while: 2\n",
      "most: 1\n",
      "assistants: 2\n",
      "limited: 1\n",
      "predefined: 1\n",
      "tasks: 1\n",
      "responses: 2\n",
      "leverages: 1\n",
      "large: 1\n",
      "language: 2\n",
      "model: 1\n",
      "improve: 1\n",
      "natural: 1\n",
      "understanding: 2\n",
      "topics: 1\n",
      "respond: 1\n",
      "carmaker: 1\n",
      "release: 1\n",
      "similar: 1\n",
      "other: 2\n",
      "industries: 1\n",
      "potential: 1\n",
      "applications: 1\n",
      "automotive: 1\n",
      "industry: 1\n",
      "have: 1\n",
      "emerged: 1\n",
      "as: 3\n",
      "growing: 1\n",
      "discussion: 1\n",
      "some: 1\n",
      "such: 1\n",
      "general: 1\n",
      "motors: 1\n",
      "say: 1\n",
      "their: 1\n",
      "autonomous: 1\n",
      "already: 1\n",
      "utilize: 1\n",
      "advanced: 1\n",
      "ai: 2\n",
      "machine: 1\n",
      "learning: 1\n",
      "partnership: 1\n",
      "marks: 1\n",
      "one: 1\n",
      "specific: 2\n",
      "use: 2\n",
      "cases: 2\n",
      "gm: 1\n",
      "earlier: 1\n",
      "this: 1\n",
      "year: 1\n",
      "was: 1\n",
      "exploring: 1\n",
      "part: 1\n",
      "broader: 1\n",
      "collaboration: 1\n",
      "with: 1\n",
      "investor: 1\n",
      "openai: 1\n",
      "created: 1\n",
      "eric: 1\n",
      "boyd: 2\n",
      "corporate: 1\n",
      "vice: 1\n",
      "president: 1\n",
      "microsofts: 1\n",
      "platform: 1\n",
      "new: 1\n",
      "integration: 2\n",
      "increase: 1\n",
      "commands: 2\n",
      "interaction: 1\n",
      "task: 1\n",
      "allow: 1\n",
      "follow: 2\n",
      "up: 2\n",
      "questions: 2\n",
      "addition: 1\n",
      "things: 1\n",
      "unlike: 1\n",
      "standard: 1\n",
      "that: 1\n",
      "often: 1\n",
      "require: 1\n",
      "excels: 1\n",
      "at: 1\n",
      "handling: 1\n",
      "maintaining: 1\n",
      "contextual: 1\n",
      "drivers: 1\n",
      "ask: 1\n",
      "complex: 1\n",
      "queries: 1\n",
      "engage: 1\n",
      "multi: 1\n",
      "turn: 1\n",
      "conversations: 1\n",
      "receiving: 1\n",
      "detailed: 1\n",
      "relevant: 1\n",
      "wrote: 1\n",
      "blog: 1\n",
      "post: 1\n",
      "based: 1\n",
      "on: 1\n",
      "findings: 1\n",
      "three: 1\n",
      "month: 1\n",
      "customer: 1\n",
      "feedback: 1\n",
      "consider: 1\n",
      "further: 1\n"
     ]
    }
   ],
   "source": [
    "import re\n",
    "from collections import Counter\n",
    "\n",
    "def count_word_frequency(file_path):\n",
    "    # Read the contents of the file with error handling\n",
    "    with open(file_path, 'r', encoding='utf-8', errors='ignore') as file:\n",
    "        text = file.read()\n",
    "\n",
    "    # Tokenize the text into words\n",
    "    words = re.findall(r'\\b\\w+\\b', text.lower())  # Using regex to extract words\n",
    "\n",
    "    # Count the frequency of each word\n",
    "    word_counts = Counter(words)\n",
    "\n",
    "    return word_counts\n",
    "\n",
    "def main():\n",
    "    file_path = 'article_1.txt'  # Replace with the path to your text file\n",
    "    word_frequency = count_word_frequency(file_path)\n",
    "\n",
    "    # Print the word frequencies\n",
    "    print(\"Word Frequencies:\")\n",
    "    for word, count in word_frequency.items():\n",
    "        print(f'{word}: {count}')\n",
    "\n",
    "if __name__ == \"__main__\":\n",
    "    main()\n"
   ]
  },
  {
   "cell_type": "markdown",
   "id": "4ac70b80",
   "metadata": {},
   "source": [
    "### Discuss the different modes of opening a file in Python."
   ]
  },
  {
   "cell_type": "markdown",
   "id": "8392df66",
   "metadata": {},
   "source": [
    "    Read Mode ('r'): Opens for reading.\n",
    "\n",
    "    Write Mode ('w'): Opens for writing. Truncates or creates.\n",
    "\n",
    "    Append Mode ('a'): Opens for appending. Creates if needed.\n",
    "\n",
    "    Binary Mode ('b'): For binary files (e.g., 'rb' or 'wb').\n",
    "\n",
    "    Read and Write ('r+', 'w+'): Read and write modes.\n",
    "\n",
    "    Exclusive Creation ('x'): Creates, raises if exists.\n",
    "\n",
    "    Text Mode ('t'): Default, for text files."
   ]
  },
  {
   "cell_type": "markdown",
   "id": "dd801318",
   "metadata": {},
   "source": [
    "### Demonstrate a simple mathematical operation using SciPy, like solving a linear equation."
   ]
  },
  {
   "cell_type": "code",
   "execution_count": 39,
   "id": "3f22c69b",
   "metadata": {},
   "outputs": [
    {
     "name": "stdout",
     "output_type": "stream",
     "text": [
      "Requirement already satisfied: scipy in c:\\users\\14373\\anaconda3\\lib\\site-packages (1.10.1)\n",
      "Requirement already satisfied: numpy<1.27.0,>=1.19.5 in c:\\users\\14373\\anaconda3\\lib\\site-packages (from scipy) (1.23.5)\n",
      "Note: you may need to restart the kernel to use updated packages.\n"
     ]
    }
   ],
   "source": [
    "pip install scipy"
   ]
  },
  {
   "cell_type": "code",
   "execution_count": 44,
   "id": "6be613d8",
   "metadata": {},
   "outputs": [
    {
     "name": "stdout",
     "output_type": "stream",
     "text": [
      "The solution to the linear equations is x = 3.75, y = 1.5\n"
     ]
    }
   ],
   "source": [
    "from scipy.linalg import solve\n",
    "\n",
    "coefficients = np.array([[2, 3], [4, 2]])\n",
    "constants = np.array([12, 18])\n",
    "\n",
    "solution = solve(coefficients, constants)\n",
    "\n",
    "print(f\"The solution to the linear equations is x = {solution[0]}, y = {solution[1]}\")"
   ]
  },
  {
   "cell_type": "markdown",
   "id": "a3ba6dc3",
   "metadata": {},
   "source": [
    "### What is the role of SciPy in scientific computing with Python?"
   ]
  },
  {
   "cell_type": "markdown",
   "id": "570964ba",
   "metadata": {},
   "source": [
    "SciPy is a Python library for scientific computing. It extends NumPy and provides tools for various tasks:\n",
    "\n",
    "    Math and Linear Algebra: Efficient functions for math operations and linear algebra.\n",
    "\n",
    "    Signal and Image Processing: Modules for signal and image processing.\n",
    "\n",
    "    Optimization and Root Finding: Tools for finding function minima/maxima and roots.\n",
    "\n",
    "    Integration and ODEs: Functions for numerical integration and solving ordinary differential equations.\n",
    "\n",
    "    Statistics: Statistical functions for probability distributions, hypothesis testing, and random number generation.\n",
    "\n",
    "    Interpolation and Splines: Tools for data interpolation and approximation.\n",
    "\n",
    "    Spatial and Clustering: Algorithms for spatial computations, distance calculations, and clustering.\n",
    "\n",
    "    File I/O: Utilities for reading/writing data in various formats.\n",
    "\n",
    "    Scientific Constants: Constants for scientific calculations.\n",
    "\n",
    "SciPy enhances Python's capabilities in scientific and engineering applications, making it a go-to library for researchers and scientists."
   ]
  }
 ],
 "metadata": {
  "kernelspec": {
   "display_name": "Python 3 (ipykernel)",
   "language": "python",
   "name": "python3"
  },
  "language_info": {
   "codemirror_mode": {
    "name": "ipython",
    "version": 3
   },
   "file_extension": ".py",
   "mimetype": "text/x-python",
   "name": "python",
   "nbconvert_exporter": "python",
   "pygments_lexer": "ipython3",
   "version": "3.10.9"
  }
 },
 "nbformat": 4,
 "nbformat_minor": 5
}
