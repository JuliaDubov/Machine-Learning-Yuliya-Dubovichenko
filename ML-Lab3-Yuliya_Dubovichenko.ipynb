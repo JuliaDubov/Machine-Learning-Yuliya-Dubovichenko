{
 "cells": [
  {
   "cell_type": "markdown",
   "id": "bbc0e4d8",
   "metadata": {},
   "source": [
    "## Decision Theory in Machine Learning"
   ]
  },
  {
   "cell_type": "markdown",
   "id": "faa2ed3e",
   "metadata": {},
   "source": [
    "### Define the Problem"
   ]
  },
  {
   "cell_type": "markdown",
   "id": "f3b8ed82",
   "metadata": {},
   "source": [
    "- We have 3 vacation destinations: Beach, Mountain, and City.\n",
    "- Each destination is evaluated based on three criteria: cost (low, medium, high), distance (near, far), and activities (few, many)."
   ]
  },
  {
   "cell_type": "markdown",
   "id": "ed4c0879",
   "metadata": {},
   "source": [
    "### Create the Decision Matrix"
   ]
  },
  {
   "cell_type": "code",
   "execution_count": 1,
   "id": "2157c38b",
   "metadata": {},
   "outputs": [],
   "source": [
    "import pandas as pd\n",
    "\n",
    "# Define the decision matrix\n",
    "data = {\n",
    "    'Cost': ['Low', 'High', 'Medium'],\n",
    "    'Distance': ['Near', 'Far', 'Near'],\n",
    "    'Activities': ['Many', 'Few', 'Many']\n",
    "}\n",
    "destinations = pd.DataFrame(data, index=['Beach', 'Mountain', 'City'])"
   ]
  },
  {
   "cell_type": "markdown",
   "id": "1e96c8fe",
   "metadata": {},
   "source": [
    "### Part 1: Choosing a Vacation Destination\n",
    "### Apply Decision Rules"
   ]
  },
  {
   "cell_type": "code",
   "execution_count": 2,
   "id": "110416c4",
   "metadata": {},
   "outputs": [],
   "source": [
    "# Decision rules as functions\n",
    "def cost_score(cost):\n",
    "    if cost == 'Low':\n",
    "        return 3\n",
    "    elif cost == 'Medium':\n",
    "        return 2\n",
    "    else:\n",
    "        return 1\n",
    "\n",
    "def distance_score(distance):\n",
    "    return 3 if distance == 'Near' else 1\n",
    "\n",
    "def activities_score(activities):\n",
    "    return 3 if activities == 'Many' else 1"
   ]
  },
  {
   "cell_type": "markdown",
   "id": "0cf5efb7",
   "metadata": {},
   "source": [
    "### Make a Decision"
   ]
  },
  {
   "cell_type": "code",
   "execution_count": 3,
   "id": "291cb9b0",
   "metadata": {},
   "outputs": [
    {
     "data": {
      "text/html": [
       "<div>\n",
       "<style scoped>\n",
       "    .dataframe tbody tr th:only-of-type {\n",
       "        vertical-align: middle;\n",
       "    }\n",
       "\n",
       "    .dataframe tbody tr th {\n",
       "        vertical-align: top;\n",
       "    }\n",
       "\n",
       "    .dataframe thead th {\n",
       "        text-align: right;\n",
       "    }\n",
       "</style>\n",
       "<table border=\"1\" class=\"dataframe\">\n",
       "  <thead>\n",
       "    <tr style=\"text-align: right;\">\n",
       "      <th></th>\n",
       "      <th>Cost</th>\n",
       "      <th>Distance</th>\n",
       "      <th>Activities</th>\n",
       "      <th>Total Score</th>\n",
       "    </tr>\n",
       "  </thead>\n",
       "  <tbody>\n",
       "    <tr>\n",
       "      <th>Beach</th>\n",
       "      <td>Low</td>\n",
       "      <td>Near</td>\n",
       "      <td>Many</td>\n",
       "      <td>9</td>\n",
       "    </tr>\n",
       "    <tr>\n",
       "      <th>Mountain</th>\n",
       "      <td>High</td>\n",
       "      <td>Far</td>\n",
       "      <td>Few</td>\n",
       "      <td>3</td>\n",
       "    </tr>\n",
       "    <tr>\n",
       "      <th>City</th>\n",
       "      <td>Medium</td>\n",
       "      <td>Near</td>\n",
       "      <td>Many</td>\n",
       "      <td>8</td>\n",
       "    </tr>\n",
       "  </tbody>\n",
       "</table>\n",
       "</div>"
      ],
      "text/plain": [
       "            Cost Distance Activities  Total Score\n",
       "Beach        Low     Near       Many            9\n",
       "Mountain    High      Far        Few            3\n",
       "City      Medium     Near       Many            8"
      ]
     },
     "execution_count": 3,
     "metadata": {},
     "output_type": "execute_result"
    }
   ],
   "source": [
    "# Calculate scores\n",
    "destinations['Total Score'] = destinations.apply(lambda x: cost_score(x['Cost']) + distance_score(x['Distance']) + activities_score(x['Activities']), axis=1)\n",
    "\n",
    "# Display the result\n",
    "destinations"
   ]
  },
  {
   "cell_type": "markdown",
   "id": "c7e59c13",
   "metadata": {},
   "source": [
    "### Part 2: Choosing a Smartphone\n",
    "### Task 1: Criteria"
   ]
  },
  {
   "cell_type": "markdown",
   "id": "e596374b",
   "metadata": {},
   "source": [
    "3 criterias: Price, Battery life, and Camera quality.\n",
    "\n",
    "- Price (Low, Medium, High)\n",
    "- Battery life (Short, Medium, Long)\n",
    "- Camera quality (Low, Medium, High)."
   ]
  },
  {
   "cell_type": "markdown",
   "id": "e8779b76",
   "metadata": {},
   "source": [
    "### Task 2: Decision Matrix"
   ]
  },
  {
   "cell_type": "code",
   "execution_count": 44,
   "id": "c7c2c4d2",
   "metadata": {},
   "outputs": [],
   "source": [
    "import pandas as pd\n",
    "\n",
    "smartphones_data = {\n",
    "    'Price': ['Medium', 'High', 'Low'],\n",
    "    'Battery Life': ['Long', 'Medium', 'Short'],\n",
    "    'Camera Quality': ['High', 'Medium', 'Low']\n",
    "}\n",
    "smartphones = pd.DataFrame(smartphones_data, index=['SmartPhone A', 'SmartPhone B', 'SmartPhone C'])"
   ]
  },
  {
   "cell_type": "markdown",
   "id": "21a76fbc",
   "metadata": {},
   "source": [
    "### Task 3: Apply Decision Rules"
   ]
  },
  {
   "cell_type": "code",
   "execution_count": 45,
   "id": "a9ef21bd",
   "metadata": {},
   "outputs": [],
   "source": [
    "def price_score(price):\n",
    "    if price == 'Low':\n",
    "        return 3\n",
    "    elif price == 'Medium':\n",
    "        return 2\n",
    "    else:\n",
    "        return 1\n",
    "\n",
    "def battery_life_score(battery_life):\n",
    "    if battery_life == 'Long':\n",
    "        return 3\n",
    "    elif battery_life == 'Medium':\n",
    "        return 2\n",
    "    else:\n",
    "        return 1\n",
    "\n",
    "def camera_quality_score(camera_quality):\n",
    "    if camera_quality == 'High':\n",
    "        return 3\n",
    "    elif camera_quality == 'Medium':\n",
    "        return 2\n",
    "    else:\n",
    "        return 1"
   ]
  },
  {
   "cell_type": "markdown",
   "id": "9dc17316",
   "metadata": {},
   "source": [
    "### Task 4: Final Decision"
   ]
  },
  {
   "cell_type": "code",
   "execution_count": 46,
   "id": "65992362",
   "metadata": {},
   "outputs": [
    {
     "data": {
      "text/html": [
       "<div>\n",
       "<style scoped>\n",
       "    .dataframe tbody tr th:only-of-type {\n",
       "        vertical-align: middle;\n",
       "    }\n",
       "\n",
       "    .dataframe tbody tr th {\n",
       "        vertical-align: top;\n",
       "    }\n",
       "\n",
       "    .dataframe thead th {\n",
       "        text-align: right;\n",
       "    }\n",
       "</style>\n",
       "<table border=\"1\" class=\"dataframe\">\n",
       "  <thead>\n",
       "    <tr style=\"text-align: right;\">\n",
       "      <th></th>\n",
       "      <th>Price</th>\n",
       "      <th>Battery Life</th>\n",
       "      <th>Camera Quality</th>\n",
       "      <th>Total Score</th>\n",
       "    </tr>\n",
       "  </thead>\n",
       "  <tbody>\n",
       "    <tr>\n",
       "      <th>SmartPhone A</th>\n",
       "      <td>Medium</td>\n",
       "      <td>Long</td>\n",
       "      <td>High</td>\n",
       "      <td>8</td>\n",
       "    </tr>\n",
       "    <tr>\n",
       "      <th>SmartPhone B</th>\n",
       "      <td>High</td>\n",
       "      <td>Medium</td>\n",
       "      <td>Medium</td>\n",
       "      <td>5</td>\n",
       "    </tr>\n",
       "    <tr>\n",
       "      <th>SmartPhone C</th>\n",
       "      <td>Low</td>\n",
       "      <td>Short</td>\n",
       "      <td>Low</td>\n",
       "      <td>5</td>\n",
       "    </tr>\n",
       "  </tbody>\n",
       "</table>\n",
       "</div>"
      ],
      "text/plain": [
       "               Price Battery Life Camera Quality  Total Score\n",
       "SmartPhone A  Medium         Long           High            8\n",
       "SmartPhone B    High       Medium         Medium            5\n",
       "SmartPhone C     Low        Short            Low            5"
      ]
     },
     "execution_count": 46,
     "metadata": {},
     "output_type": "execute_result"
    }
   ],
   "source": [
    "smartphones['Total Score'] = smartphones.apply(lambda x: price_score(x['Price']) + battery_life_score(x['Battery Life']) + camera_quality_score(x['Camera Quality']), axis=1)\n",
    "\n",
    "smartphones"
   ]
  },
  {
   "cell_type": "markdown",
   "id": "96df9702",
   "metadata": {},
   "source": [
    "### Task 5: Evaluation and Reflection"
   ]
  },
  {
   "cell_type": "markdown",
   "id": "761b2d32",
   "metadata": {},
   "source": [
    "Decision Theory is a useful tool for structured decision-making. It breaks down problems, like choosing a vacation destination or a smartphone, into manageable steps using decision matrices and rules.\n",
    "\n",
    "Alternative Methodologies:\n",
    "\n",
    "- Weighted Decision Matrix: Customize scores with weighted criteria for flexibility.\n",
    "- Machine Learning Algorithms: Use algorithms like decision trees for data-driven decisions.\n",
    "- Cost-Benefit Analysis: Assess costs and benefits for financial decisions.\n",
    "- Expert Opinion: Rely on expert judgment for domain-specific decisions.\n",
    "- Simulation: Model scenarios for decisions involving uncertainty."
   ]
  }
 ],
 "metadata": {
  "kernelspec": {
   "display_name": "Python 3 (ipykernel)",
   "language": "python",
   "name": "python3"
  },
  "language_info": {
   "codemirror_mode": {
    "name": "ipython",
    "version": 3
   },
   "file_extension": ".py",
   "mimetype": "text/x-python",
   "name": "python",
   "nbconvert_exporter": "python",
   "pygments_lexer": "ipython3",
   "version": "3.10.9"
  }
 },
 "nbformat": 4,
 "nbformat_minor": 5
}
